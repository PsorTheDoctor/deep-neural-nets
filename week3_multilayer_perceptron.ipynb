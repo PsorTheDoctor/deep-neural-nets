{
  "nbformat": 4,
  "nbformat_minor": 0,
  "metadata": {
    "colab": {
      "provenance": [],
      "gpuType": "T4",
      "include_colab_link": true
    },
    "kernelspec": {
      "name": "python3",
      "display_name": "Python 3"
    },
    "language_info": {
      "name": "python"
    },
    "widgets": {
      "application/vnd.jupyter.widget-state+json": {
        "814e7dfbed604d039b04e1e930967027": {
          "model_module": "@jupyter-widgets/controls",
          "model_name": "HBoxModel",
          "model_module_version": "1.5.0",
          "state": {
            "_dom_classes": [],
            "_model_module": "@jupyter-widgets/controls",
            "_model_module_version": "1.5.0",
            "_model_name": "HBoxModel",
            "_view_count": null,
            "_view_module": "@jupyter-widgets/controls",
            "_view_module_version": "1.5.0",
            "_view_name": "HBoxView",
            "box_style": "",
            "children": [
              "IPY_MODEL_9a07924c83094f5ab7a288632107037e",
              "IPY_MODEL_41f44ffeb9d649a9949c6050f76a4004",
              "IPY_MODEL_ff0d1479a2584cb3b89adbbd9b8cb2b2"
            ],
            "layout": "IPY_MODEL_0c4da46442ab4a05af5f68c81e9c176d"
          }
        },
        "9a07924c83094f5ab7a288632107037e": {
          "model_module": "@jupyter-widgets/controls",
          "model_name": "HTMLModel",
          "model_module_version": "1.5.0",
          "state": {
            "_dom_classes": [],
            "_model_module": "@jupyter-widgets/controls",
            "_model_module_version": "1.5.0",
            "_model_name": "HTMLModel",
            "_view_count": null,
            "_view_module": "@jupyter-widgets/controls",
            "_view_module_version": "1.5.0",
            "_view_name": "HTMLView",
            "description": "",
            "description_tooltip": null,
            "layout": "IPY_MODEL_90551e6e74f34f3a824d91ce7c213f5c",
            "placeholder": "​",
            "style": "IPY_MODEL_b517fdd15c2b470181291e864571e58b",
            "value": "100%"
          }
        },
        "41f44ffeb9d649a9949c6050f76a4004": {
          "model_module": "@jupyter-widgets/controls",
          "model_name": "FloatProgressModel",
          "model_module_version": "1.5.0",
          "state": {
            "_dom_classes": [],
            "_model_module": "@jupyter-widgets/controls",
            "_model_module_version": "1.5.0",
            "_model_name": "FloatProgressModel",
            "_view_count": null,
            "_view_module": "@jupyter-widgets/controls",
            "_view_module_version": "1.5.0",
            "_view_name": "ProgressView",
            "bar_style": "success",
            "description": "",
            "description_tooltip": null,
            "layout": "IPY_MODEL_e54380dfd22649fdac9a47a2162ba389",
            "max": 50,
            "min": 0,
            "orientation": "horizontal",
            "style": "IPY_MODEL_71ee5742ae584b7b8ced14422a36d66b",
            "value": 50
          }
        },
        "ff0d1479a2584cb3b89adbbd9b8cb2b2": {
          "model_module": "@jupyter-widgets/controls",
          "model_name": "HTMLModel",
          "model_module_version": "1.5.0",
          "state": {
            "_dom_classes": [],
            "_model_module": "@jupyter-widgets/controls",
            "_model_module_version": "1.5.0",
            "_model_name": "HTMLModel",
            "_view_count": null,
            "_view_module": "@jupyter-widgets/controls",
            "_view_module_version": "1.5.0",
            "_view_name": "HTMLView",
            "description": "",
            "description_tooltip": null,
            "layout": "IPY_MODEL_928d1aa9018940398f8030ac607db607",
            "placeholder": "​",
            "style": "IPY_MODEL_83bd2412d9614aee8f0f672b1964fff4",
            "value": " 50/50 [01:55&lt;00:00,  2.24s/it]"
          }
        },
        "0c4da46442ab4a05af5f68c81e9c176d": {
          "model_module": "@jupyter-widgets/base",
          "model_name": "LayoutModel",
          "model_module_version": "1.2.0",
          "state": {
            "_model_module": "@jupyter-widgets/base",
            "_model_module_version": "1.2.0",
            "_model_name": "LayoutModel",
            "_view_count": null,
            "_view_module": "@jupyter-widgets/base",
            "_view_module_version": "1.2.0",
            "_view_name": "LayoutView",
            "align_content": null,
            "align_items": null,
            "align_self": null,
            "border": null,
            "bottom": null,
            "display": null,
            "flex": null,
            "flex_flow": null,
            "grid_area": null,
            "grid_auto_columns": null,
            "grid_auto_flow": null,
            "grid_auto_rows": null,
            "grid_column": null,
            "grid_gap": null,
            "grid_row": null,
            "grid_template_areas": null,
            "grid_template_columns": null,
            "grid_template_rows": null,
            "height": null,
            "justify_content": null,
            "justify_items": null,
            "left": null,
            "margin": null,
            "max_height": null,
            "max_width": null,
            "min_height": null,
            "min_width": null,
            "object_fit": null,
            "object_position": null,
            "order": null,
            "overflow": null,
            "overflow_x": null,
            "overflow_y": null,
            "padding": null,
            "right": null,
            "top": null,
            "visibility": null,
            "width": null
          }
        },
        "90551e6e74f34f3a824d91ce7c213f5c": {
          "model_module": "@jupyter-widgets/base",
          "model_name": "LayoutModel",
          "model_module_version": "1.2.0",
          "state": {
            "_model_module": "@jupyter-widgets/base",
            "_model_module_version": "1.2.0",
            "_model_name": "LayoutModel",
            "_view_count": null,
            "_view_module": "@jupyter-widgets/base",
            "_view_module_version": "1.2.0",
            "_view_name": "LayoutView",
            "align_content": null,
            "align_items": null,
            "align_self": null,
            "border": null,
            "bottom": null,
            "display": null,
            "flex": null,
            "flex_flow": null,
            "grid_area": null,
            "grid_auto_columns": null,
            "grid_auto_flow": null,
            "grid_auto_rows": null,
            "grid_column": null,
            "grid_gap": null,
            "grid_row": null,
            "grid_template_areas": null,
            "grid_template_columns": null,
            "grid_template_rows": null,
            "height": null,
            "justify_content": null,
            "justify_items": null,
            "left": null,
            "margin": null,
            "max_height": null,
            "max_width": null,
            "min_height": null,
            "min_width": null,
            "object_fit": null,
            "object_position": null,
            "order": null,
            "overflow": null,
            "overflow_x": null,
            "overflow_y": null,
            "padding": null,
            "right": null,
            "top": null,
            "visibility": null,
            "width": null
          }
        },
        "b517fdd15c2b470181291e864571e58b": {
          "model_module": "@jupyter-widgets/controls",
          "model_name": "DescriptionStyleModel",
          "model_module_version": "1.5.0",
          "state": {
            "_model_module": "@jupyter-widgets/controls",
            "_model_module_version": "1.5.0",
            "_model_name": "DescriptionStyleModel",
            "_view_count": null,
            "_view_module": "@jupyter-widgets/base",
            "_view_module_version": "1.2.0",
            "_view_name": "StyleView",
            "description_width": ""
          }
        },
        "e54380dfd22649fdac9a47a2162ba389": {
          "model_module": "@jupyter-widgets/base",
          "model_name": "LayoutModel",
          "model_module_version": "1.2.0",
          "state": {
            "_model_module": "@jupyter-widgets/base",
            "_model_module_version": "1.2.0",
            "_model_name": "LayoutModel",
            "_view_count": null,
            "_view_module": "@jupyter-widgets/base",
            "_view_module_version": "1.2.0",
            "_view_name": "LayoutView",
            "align_content": null,
            "align_items": null,
            "align_self": null,
            "border": null,
            "bottom": null,
            "display": null,
            "flex": null,
            "flex_flow": null,
            "grid_area": null,
            "grid_auto_columns": null,
            "grid_auto_flow": null,
            "grid_auto_rows": null,
            "grid_column": null,
            "grid_gap": null,
            "grid_row": null,
            "grid_template_areas": null,
            "grid_template_columns": null,
            "grid_template_rows": null,
            "height": null,
            "justify_content": null,
            "justify_items": null,
            "left": null,
            "margin": null,
            "max_height": null,
            "max_width": null,
            "min_height": null,
            "min_width": null,
            "object_fit": null,
            "object_position": null,
            "order": null,
            "overflow": null,
            "overflow_x": null,
            "overflow_y": null,
            "padding": null,
            "right": null,
            "top": null,
            "visibility": null,
            "width": null
          }
        },
        "71ee5742ae584b7b8ced14422a36d66b": {
          "model_module": "@jupyter-widgets/controls",
          "model_name": "ProgressStyleModel",
          "model_module_version": "1.5.0",
          "state": {
            "_model_module": "@jupyter-widgets/controls",
            "_model_module_version": "1.5.0",
            "_model_name": "ProgressStyleModel",
            "_view_count": null,
            "_view_module": "@jupyter-widgets/base",
            "_view_module_version": "1.2.0",
            "_view_name": "StyleView",
            "bar_color": null,
            "description_width": ""
          }
        },
        "928d1aa9018940398f8030ac607db607": {
          "model_module": "@jupyter-widgets/base",
          "model_name": "LayoutModel",
          "model_module_version": "1.2.0",
          "state": {
            "_model_module": "@jupyter-widgets/base",
            "_model_module_version": "1.2.0",
            "_model_name": "LayoutModel",
            "_view_count": null,
            "_view_module": "@jupyter-widgets/base",
            "_view_module_version": "1.2.0",
            "_view_name": "LayoutView",
            "align_content": null,
            "align_items": null,
            "align_self": null,
            "border": null,
            "bottom": null,
            "display": null,
            "flex": null,
            "flex_flow": null,
            "grid_area": null,
            "grid_auto_columns": null,
            "grid_auto_flow": null,
            "grid_auto_rows": null,
            "grid_column": null,
            "grid_gap": null,
            "grid_row": null,
            "grid_template_areas": null,
            "grid_template_columns": null,
            "grid_template_rows": null,
            "height": null,
            "justify_content": null,
            "justify_items": null,
            "left": null,
            "margin": null,
            "max_height": null,
            "max_width": null,
            "min_height": null,
            "min_width": null,
            "object_fit": null,
            "object_position": null,
            "order": null,
            "overflow": null,
            "overflow_x": null,
            "overflow_y": null,
            "padding": null,
            "right": null,
            "top": null,
            "visibility": null,
            "width": null
          }
        },
        "83bd2412d9614aee8f0f672b1964fff4": {
          "model_module": "@jupyter-widgets/controls",
          "model_name": "DescriptionStyleModel",
          "model_module_version": "1.5.0",
          "state": {
            "_model_module": "@jupyter-widgets/controls",
            "_model_module_version": "1.5.0",
            "_model_name": "DescriptionStyleModel",
            "_view_count": null,
            "_view_module": "@jupyter-widgets/base",
            "_view_module_version": "1.2.0",
            "_view_name": "StyleView",
            "description_width": ""
          }
        }
      }
    },
    "accelerator": "GPU"
  },
  "cells": [
    {
      "cell_type": "markdown",
      "metadata": {
        "id": "view-in-github",
        "colab_type": "text"
      },
      "source": [
        "<a href=\"https://colab.research.google.com/github/PsorTheDoctor/deep-neural-nets/blob/main/week3_multilayer_perceptron.ipynb\" target=\"_parent\"><img src=\"https://colab.research.google.com/assets/colab-badge.svg\" alt=\"Open In Colab\"/></a>"
      ]
    },
    {
      "cell_type": "markdown",
      "source": [
        "#Multilayer perceptron"
      ],
      "metadata": {
        "id": "KauHlOTwMX35"
      }
    },
    {
      "cell_type": "code",
      "metadata": {
        "id": "0-mR6EhyaYbP"
      },
      "source": [
        "import copy\n",
        "import numpy as np\n",
        "import matplotlib.pyplot as plt\n",
        "from tqdm.notebook import tqdm\n",
        "import torch\n",
        "from torch import nn\n",
        "import torch.nn.functional as F\n",
        "import torchvision\n",
        "from torchvision import transforms"
      ],
      "execution_count": 1,
      "outputs": []
    },
    {
      "cell_type": "code",
      "metadata": {
        "id": "EQFeT-BIavUb",
        "outputId": "6432f523-b39f-42ed-9d98-afb4bc965c0f",
        "colab": {
          "base_uri": "https://localhost:8080/"
        }
      },
      "source": [
        "class Cifar10(torchvision.datasets.CIFAR10):\n",
        "  def __init__(self, train: bool):\n",
        "    super().__init__(root='~/data', train=train, download=True)\n",
        "    self.data = self.data.astype(np.float32) / 255 - 0.5\n",
        "\n",
        "  def __getitem__(self, idx):\n",
        "    return self.data[idx], self.targets[idx]\n",
        "\n",
        "data_train = Cifar10(train=True)\n",
        "data_train, data_valid = torch.utils.data.random_split(data_train, (45000, 5000))\n",
        "data_test = Cifar10(train=False)"
      ],
      "execution_count": 2,
      "outputs": [
        {
          "output_type": "stream",
          "name": "stdout",
          "text": [
            "Downloading https://www.cs.toronto.edu/~kriz/cifar-10-python.tar.gz to /root/data/cifar-10-python.tar.gz\n"
          ]
        },
        {
          "output_type": "stream",
          "name": "stderr",
          "text": [
            "100%|██████████| 170498071/170498071 [00:01<00:00, 93678225.11it/s]\n"
          ]
        },
        {
          "output_type": "stream",
          "name": "stdout",
          "text": [
            "Extracting /root/data/cifar-10-python.tar.gz to /root/data\n",
            "Files already downloaded and verified\n"
          ]
        }
      ]
    },
    {
      "cell_type": "code",
      "metadata": {
        "id": "NAc4uQGcazvv"
      },
      "source": [
        "kwargs = {'batch_size': 100, 'num_workers': 2}\n",
        "loader_train = torch.utils.data.DataLoader(data_train, **kwargs, shuffle=True)\n",
        "loader_valid = torch.utils.data.DataLoader(data_valid, **kwargs)\n",
        "loader_test = torch.utils.data.DataLoader(data_test, **kwargs)"
      ],
      "execution_count": 4,
      "outputs": []
    },
    {
      "cell_type": "markdown",
      "metadata": {
        "id": "iRH-bgxybAMM"
      },
      "source": [
        "## Challenge\n",
        "* Build a Multi Layer Perceptron, MLP, with one ReLU-activated hidden layer.\n",
        "* Use the validation set to inform e.g. number of hidden neurons.\n",
        "* When you're satisfied, then, use the test set to get an  \n",
        "unbiased estimate of your models performance on the real data distribution."
      ]
    },
    {
      "cell_type": "code",
      "metadata": {
        "id": "2RbGkyDRa42r"
      },
      "source": [
        "class MLP(nn.Module):\n",
        "  def __init__(self, n_hidden_units):\n",
        "    super(MLP, self).__init__()\n",
        "    self.model = nn.Sequential(\n",
        "        nn.Flatten(),\n",
        "        nn.Linear(32 * 32 * 3, n_hidden_units),\n",
        "        nn.ReLU(),\n",
        "        nn.Linear(n_hidden_units, 10)\n",
        "    )\n",
        "\n",
        "  def forward(self, x):\n",
        "    result = self.model(x)\n",
        "    return result"
      ],
      "execution_count": 5,
      "outputs": []
    },
    {
      "cell_type": "code",
      "metadata": {
        "id": "bESPwupAbHwm"
      },
      "source": [
        "all_losses, all_accuracies = {}, {}\n",
        "best_accuracy = 0\n",
        "best_model = None"
      ],
      "execution_count": 6,
      "outputs": []
    },
    {
      "cell_type": "code",
      "metadata": {
        "id": "e16OB5PFbKl_",
        "outputId": "923581d5-038a-45a9-83d6-103473a65984",
        "colab": {
          "base_uri": "https://localhost:8080/",
          "height": 49,
          "referenced_widgets": [
            "814e7dfbed604d039b04e1e930967027",
            "9a07924c83094f5ab7a288632107037e",
            "41f44ffeb9d649a9949c6050f76a4004",
            "ff0d1479a2584cb3b89adbbd9b8cb2b2",
            "0c4da46442ab4a05af5f68c81e9c176d",
            "90551e6e74f34f3a824d91ce7c213f5c",
            "b517fdd15c2b470181291e864571e58b",
            "e54380dfd22649fdac9a47a2162ba389",
            "71ee5742ae584b7b8ced14422a36d66b",
            "928d1aa9018940398f8030ac607db607",
            "83bd2412d9614aee8f0f672b1964fff4"
          ]
        }
      },
      "source": [
        "device = torch.device('cuda')\n",
        "n_hidden_neurons = 1000\n",
        "model = MLP(n_hidden_neurons).to(device)\n",
        "opt = torch.optim.SGD(model.parameters(), lr=5e-2)\n",
        "\n",
        "train_losses, train_accuracies = [], []\n",
        "valid_losses, valid_accuracies = [], []\n",
        "\n",
        "for epoch in tqdm(range(50)):\n",
        "  # Train\n",
        "  epoch_losses = []\n",
        "  correct, total = 0, 0\n",
        "  for x, y in loader_train:\n",
        "    x, y = x.to(device), y.to(device)\n",
        "    logits = model(x)  # logits: common name for the output before softmax activation\n",
        "    log_probs = F.log_softmax(logits, dim=1)  # numerically stable version of log(softmax(logits))\n",
        "    loss = F.nll_loss(log_probs, y)  # negative log likelihood loss\n",
        "    # or just: loss = F.cross_entropy(logits, y)\n",
        "\n",
        "    opt.zero_grad()\n",
        "    loss.backward()\n",
        "    opt.step()\n",
        "\n",
        "    epoch_losses.append(loss.item())\n",
        "    total += len(x)\n",
        "    correct += (torch.argmax(logits, dim=1) == y).sum().item()\n",
        "  train_loss = np.mean(epoch_losses)\n",
        "  train_accuracy = correct / total\n",
        "\n",
        "  # Valid\n",
        "  for x, y in loader_valid:\n",
        "    x, y = x.to(device), y.to(device)\n",
        "    logits = model(x)\n",
        "    log_probs = F.log_softmax(logits, dim=1)\n",
        "    loss = F.nll_loss(log_probs, y)\n",
        "\n",
        "    epoch_losses.append(loss.item())\n",
        "    total += len(x)\n",
        "    correct += (torch.argmax(logits, dim=1) == y).sum().item()\n",
        "  valid_loss = np.mean(epoch_losses)\n",
        "  valid_accuracy = correct / total\n",
        "\n",
        "  if valid_accuracy > best_accuracy:\n",
        "    best_accuracy = valid_accuracy\n",
        "    best_model = copy.deepcopy(model), n_hidden_neurons, epoch\n",
        "\n",
        "  train_losses.append(train_loss)\n",
        "  valid_losses.append(valid_loss)\n",
        "  train_accuracies.append(train_accuracy)\n",
        "  valid_accuracies.append(valid_accuracy)\n",
        "\n",
        "all_losses[n_hidden_neurons] = train_losses, valid_losses\n",
        "all_accuracies[n_hidden_neurons] = train_accuracies, valid_accuracies"
      ],
      "execution_count": 10,
      "outputs": [
        {
          "output_type": "display_data",
          "data": {
            "text/plain": [
              "  0%|          | 0/50 [00:00<?, ?it/s]"
            ],
            "application/vnd.jupyter.widget-view+json": {
              "version_major": 2,
              "version_minor": 0,
              "model_id": "814e7dfbed604d039b04e1e930967027"
            }
          },
          "metadata": {}
        }
      ]
    },
    {
      "cell_type": "code",
      "metadata": {
        "id": "7zxi7BqgbNbe",
        "outputId": "58114a9d-6f3e-49cb-f1d9-5991bf96f2ed",
        "colab": {
          "base_uri": "https://localhost:8080/",
          "height": 407
        }
      },
      "source": [
        "plt.figure(figsize=(10, 4))\n",
        "\n",
        "plt.subplot(1, 2, 1)\n",
        "plt.xlabel('epoch')\n",
        "plt.ylabel('loss')\n",
        "for n, (train_losses, valid_losses) in all_losses.items():\n",
        "  p = plt.plot(train_losses, label=f'{n}:train')\n",
        "  plt.plot(valid_losses, label=f'{n}:valid', ls='--', c=p[0].get_color())\n",
        "plt.legend()\n",
        "plt.grid()\n",
        "\n",
        "plt.subplot(1, 2, 2)\n",
        "plt.xlabel('epoch')\n",
        "plt.ylabel('accuracy')\n",
        "plt.ylim(0, 1)\n",
        "for n, (train_accuracies, valid_accuracies) in all_accuracies.items():\n",
        "  p = plt.plot(train_accuracies, label=f'{n}:train')\n",
        "  plt.plot(valid_accuracies, label=f'{n}:valid', ls='--', c=p[0].get_color())\n",
        "plt.legend()\n",
        "plt.grid()\n",
        "\n",
        "plt.tight_layout()\n",
        "plt.show()"
      ],
      "execution_count": 11,
      "outputs": [
        {
          "output_type": "display_data",
          "data": {
            "text/plain": [
              "<Figure size 1000x400 with 2 Axes>"
            ],
            "image/png": "[encoded data removed]"
          },
          "metadata": {}
        }
      ]
    },
    {
      "cell_type": "code",
      "metadata": {
        "id": "HziDCC59bdIj",
        "outputId": "a8bcb50e-aef9-4916-cf27-4071a8ba1551",
        "colab": {
          "base_uri": "https://localhost:8080/"
        }
      },
      "source": [
        "model, n_hidden_neurons, epoch = best_model\n",
        "print(f'best val accuracy: {best_accuracy:.2f} with {n_hidden_neurons} hidden neurons after {epoch} epoch')\n",
        "\n",
        "model.eval()\n",
        "with torch.no_grad():\n",
        "  correct = 0\n",
        "  total = 0\n",
        "  for x, y in loader_test:\n",
        "    x, y = x.to(device), y.to(device)\n",
        "    x_pred = model(x)\n",
        "    _, y_pred = torch.max(x_pred.data, 1)\n",
        "    total += y.size(0)\n",
        "    correct += (y_pred == y).sum().item()\n",
        "\n",
        "print(f'Test accuracy: {correct / total}')"
      ],
      "execution_count": 12,
      "outputs": [
        {
          "output_type": "stream",
          "name": "stdout",
          "text": [
            "best val accuracy: 0.89 with 1000 hidden neurons after 49 epoch\n",
            "Test accuracy: 0.5416\n"
          ]
        }
      ]
    }
  ]
}