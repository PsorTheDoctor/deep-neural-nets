{
  "nbformat": 4,
  "nbformat_minor": 0,
  "metadata": {
    "colab": {
      "provenance": [],
      "gpuType": "T4",
      "include_colab_link": true
    },
    "kernelspec": {
      "name": "python3",
      "display_name": "Python 3"
    },
    "language_info": {
      "name": "python"
    },
    "widgets": {
      "application/vnd.jupyter.widget-state+json": {
        "d515fa4f5a8f48fca3ce5596133b5817": {
          "model_module": "@jupyter-widgets/controls",
          "model_name": "HBoxModel",
          "model_module_version": "1.5.0",
          "state": {
            "_dom_classes": [],
            "_model_module": "@jupyter-widgets/controls",
            "_model_module_version": "1.5.0",
            "_model_name": "HBoxModel",
            "_view_count": null,
            "_view_module": "@jupyter-widgets/controls",
            "_view_module_version": "1.5.0",
            "_view_name": "HBoxView",
            "box_style": "",
            "children": [
              "IPY_MODEL_1b0e4c71caa94aa695d314e89a3b7bbb",
              "IPY_MODEL_8896a6d346314321b9048edd911c7218",
              "IPY_MODEL_8a0d3b38f6fe4500bd53cfb1478afbf0"
            ],
            "layout": "IPY_MODEL_a242a229d9be4cdca82d5c6f0effddc2"
          }
        },
        "1b0e4c71caa94aa695d314e89a3b7bbb": {
          "model_module": "@jupyter-widgets/controls",
          "model_name": "HTMLModel",
          "model_module_version": "1.5.0",
          "state": {
            "_dom_classes": [],
            "_model_module": "@jupyter-widgets/controls",
            "_model_module_version": "1.5.0",
            "_model_name": "HTMLModel",
            "_view_count": null,
            "_view_module": "@jupyter-widgets/controls",
            "_view_module_version": "1.5.0",
            "_view_name": "HTMLView",
            "description": "",
            "description_tooltip": null,
            "layout": "IPY_MODEL_dacebf749a624a32a00169475f4167d2",
            "placeholder": "​",
            "style": "IPY_MODEL_0310f872f5574e2991bf86176d3911cd",
            "value": "100%"
          }
        },
        "8896a6d346314321b9048edd911c7218": {
          "model_module": "@jupyter-widgets/controls",
          "model_name": "FloatProgressModel",
          "model_module_version": "1.5.0",
          "state": {
            "_dom_classes": [],
            "_model_module": "@jupyter-widgets/controls",
            "_model_module_version": "1.5.0",
            "_model_name": "FloatProgressModel",
            "_view_count": null,
            "_view_module": "@jupyter-widgets/controls",
            "_view_module_version": "1.5.0",
            "_view_name": "ProgressView",
            "bar_style": "success",
            "description": "",
            "description_tooltip": null,
            "layout": "IPY_MODEL_a8fc0b6774f8487a934e6a7aeeaf7e43",
            "max": 50,
            "min": 0,
            "orientation": "horizontal",
            "style": "IPY_MODEL_da9d1fb34ddc4877bb2c0602a8c6ede9",
            "value": 50
          }
        },
        "8a0d3b38f6fe4500bd53cfb1478afbf0": {
          "model_module": "@jupyter-widgets/controls",
          "model_name": "HTMLModel",
          "model_module_version": "1.5.0",
          "state": {
            "_dom_classes": [],
            "_model_module": "@jupyter-widgets/controls",
            "_model_module_version": "1.5.0",
            "_model_name": "HTMLModel",
            "_view_count": null,
            "_view_module": "@jupyter-widgets/controls",
            "_view_module_version": "1.5.0",
            "_view_name": "HTMLView",
            "description": "",
            "description_tooltip": null,
            "layout": "IPY_MODEL_5e2af6af28164c77a6850a45bc23c614",
            "placeholder": "​",
            "style": "IPY_MODEL_a9d5604751b549ba8ab9500b83b05dc3",
            "value": " 50/50 [01:52&lt;00:00,  2.24s/it]"
          }
        },
        "a242a229d9be4cdca82d5c6f0effddc2": {
          "model_module": "@jupyter-widgets/base",
          "model_name": "LayoutModel",
          "model_module_version": "1.2.0",
          "state": {
            "_model_module": "@jupyter-widgets/base",
            "_model_module_version": "1.2.0",
            "_model_name": "LayoutModel",
            "_view_count": null,
            "_view_module": "@jupyter-widgets/base",
            "_view_module_version": "1.2.0",
            "_view_name": "LayoutView",
            "align_content": null,
            "align_items": null,
            "align_self": null,
            "border": null,
            "bottom": null,
            "display": null,
            "flex": null,
            "flex_flow": null,
            "grid_area": null,
            "grid_auto_columns": null,
            "grid_auto_flow": null,
            "grid_auto_rows": null,
            "grid_column": null,
            "grid_gap": null,
            "grid_row": null,
            "grid_template_areas": null,
            "grid_template_columns": null,
            "grid_template_rows": null,
            "height": null,
            "justify_content": null,
            "justify_items": null,
            "left": null,
            "margin": null,
            "max_height": null,
            "max_width": null,
            "min_height": null,
            "min_width": null,
            "object_fit": null,
            "object_position": null,
            "order": null,
            "overflow": null,
            "overflow_x": null,
            "overflow_y": null,
            "padding": null,
            "right": null,
            "top": null,
            "visibility": null,
            "width": null
          }
        },
        "dacebf749a624a32a00169475f4167d2": {
          "model_module": "@jupyter-widgets/base",
          "model_name": "LayoutModel",
          "model_module_version": "1.2.0",
          "state": {
            "_model_module": "@jupyter-widgets/base",
            "_model_module_version": "1.2.0",
            "_model_name": "LayoutModel",
            "_view_count": null,
            "_view_module": "@jupyter-widgets/base",
            "_view_module_version": "1.2.0",
            "_view_name": "LayoutView",
            "align_content": null,
            "align_items": null,
            "align_self": null,
            "border": null,
            "bottom": null,
            "display": null,
            "flex": null,
            "flex_flow": null,
            "grid_area": null,
            "grid_auto_columns": null,
            "grid_auto_flow": null,
            "grid_auto_rows": null,
            "grid_column": null,
            "grid_gap": null,
            "grid_row": null,
            "grid_template_areas": null,
            "grid_template_columns": null,
            "grid_template_rows": null,
            "height": null,
            "justify_content": null,
            "justify_items": null,
            "left": null,
            "margin": null,
            "max_height": null,
            "max_width": null,
            "min_height": null,
            "min_width": null,
            "object_fit": null,
            "object_position": null,
            "order": null,
            "overflow": null,
            "overflow_x": null,
            "overflow_y": null,
            "padding": null,
            "right": null,
            "top": null,
            "visibility": null,
            "width": null
          }
        },
        "0310f872f5574e2991bf86176d3911cd": {
          "model_module": "@jupyter-widgets/controls",
          "model_name": "DescriptionStyleModel",
          "model_module_version": "1.5.0",
          "state": {
            "_model_module": "@jupyter-widgets/controls",
            "_model_module_version": "1.5.0",
            "_model_name": "DescriptionStyleModel",
            "_view_count": null,
            "_view_module": "@jupyter-widgets/base",
            "_view_module_version": "1.2.0",
            "_view_name": "StyleView",
            "description_width": ""
          }
        },
        "a8fc0b6774f8487a934e6a7aeeaf7e43": {
          "model_module": "@jupyter-widgets/base",
          "model_name": "LayoutModel",
          "model_module_version": "1.2.0",
          "state": {
            "_model_module": "@jupyter-widgets/base",
            "_model_module_version": "1.2.0",
            "_model_name": "LayoutModel",
            "_view_count": null,
            "_view_module": "@jupyter-widgets/base",
            "_view_module_version": "1.2.0",
            "_view_name": "LayoutView",
            "align_content": null,
            "align_items": null,
            "align_self": null,
            "border": null,
            "bottom": null,
            "display": null,
            "flex": null,
            "flex_flow": null,
            "grid_area": null,
            "grid_auto_columns": null,
            "grid_auto_flow": null,
            "grid_auto_rows": null,
            "grid_column": null,
            "grid_gap": null,
            "grid_row": null,
            "grid_template_areas": null,
            "grid_template_columns": null,
            "grid_template_rows": null,
            "height": null,
            "justify_content": null,
            "justify_items": null,
            "left": null,
            "margin": null,
            "max_height": null,
            "max_width": null,
            "min_height": null,
            "min_width": null,
            "object_fit": null,
            "object_position": null,
            "order": null,
            "overflow": null,
            "overflow_x": null,
            "overflow_y": null,
            "padding": null,
            "right": null,
            "top": null,
            "visibility": null,
            "width": null
          }
        },
        "da9d1fb34ddc4877bb2c0602a8c6ede9": {
          "model_module": "@jupyter-widgets/controls",
          "model_name": "ProgressStyleModel",
          "model_module_version": "1.5.0",
          "state": {
            "_model_module": "@jupyter-widgets/controls",
            "_model_module_version": "1.5.0",
            "_model_name": "ProgressStyleModel",
            "_view_count": null,
            "_view_module": "@jupyter-widgets/base",
            "_view_module_version": "1.2.0",
            "_view_name": "StyleView",
            "bar_color": null,
            "description_width": ""
          }
        },
        "5e2af6af28164c77a6850a45bc23c614": {
          "model_module": "@jupyter-widgets/base",
          "model_name": "LayoutModel",
          "model_module_version": "1.2.0",
          "state": {
            "_model_module": "@jupyter-widgets/base",
            "_model_module_version": "1.2.0",
            "_model_name": "LayoutModel",
            "_view_count": null,
            "_view_module": "@jupyter-widgets/base",
            "_view_module_version": "1.2.0",
            "_view_name": "LayoutView",
            "align_content": null,
            "align_items": null,
            "align_self": null,
            "border": null,
            "bottom": null,
            "display": null,
            "flex": null,
            "flex_flow": null,
            "grid_area": null,
            "grid_auto_columns": null,
            "grid_auto_flow": null,
            "grid_auto_rows": null,
            "grid_column": null,
            "grid_gap": null,
            "grid_row": null,
            "grid_template_areas": null,
            "grid_template_columns": null,
            "grid_template_rows": null,
            "height": null,
            "justify_content": null,
            "justify_items": null,
            "left": null,
            "margin": null,
            "max_height": null,
            "max_width": null,
            "min_height": null,
            "min_width": null,
            "object_fit": null,
            "object_position": null,
            "order": null,
            "overflow": null,
            "overflow_x": null,
            "overflow_y": null,
            "padding": null,
            "right": null,
            "top": null,
            "visibility": null,
            "width": null
          }
        },
        "a9d5604751b549ba8ab9500b83b05dc3": {
          "model_module": "@jupyter-widgets/controls",
          "model_name": "DescriptionStyleModel",
          "model_module_version": "1.5.0",
          "state": {
            "_model_module": "@jupyter-widgets/controls",
            "_model_module_version": "1.5.0",
            "_model_name": "DescriptionStyleModel",
            "_view_count": null,
            "_view_module": "@jupyter-widgets/base",
            "_view_module_version": "1.2.0",
            "_view_name": "StyleView",
            "description_width": ""
          }
        }
      }
    },
    "accelerator": "GPU"
  },
  "cells": [
    {
      "cell_type": "markdown",
      "metadata": {
        "id": "view-in-github",
        "colab_type": "text"
      },
      "source": [
        "<a href=\"https://colab.research.google.com/github/PsorTheDoctor/deep-neural-nets/blob/main/week3_multilayer_perceptron.ipynb\" target=\"_parent\"><img src=\"https://colab.research.google.com/assets/colab-badge.svg\" alt=\"Open In Colab\"/></a>"
      ]
    },
    {
      "cell_type": "markdown",
      "source": [
        "#Multilayer perceptron"
      ],
      "metadata": {
        "id": "KauHlOTwMX35"
      }
    },
    {
      "cell_type": "code",
      "metadata": {
        "id": "0-mR6EhyaYbP"
      },
      "source": [
        "import copy\n",
        "import numpy as np\n",
        "import matplotlib.pyplot as plt\n",
        "from tqdm.notebook import tqdm\n",
        "import torch\n",
        "from torch import nn\n",
        "import torch.nn.functional as F\n",
        "import torchvision\n",
        "from torchvision import transforms"
      ],
      "execution_count": 1,
      "outputs": []
    },
    {
      "cell_type": "code",
      "metadata": {
        "id": "EQFeT-BIavUb"
      },
      "source": [
        "class Cifar10(torchvision.datasets.CIFAR10):\n",
        "  def __init__(self, train: bool):\n",
        "    super().__init__(root='~/data', train=train, download=True)\n",
        "    self.data = self.data.astype(np.float32) / 255 - 0.5\n",
        "\n",
        "  def __getitem__(self, idx):\n",
        "    return self.data[idx], self.targets[idx]\n",
        "\n",
        "data_train = Cifar10(train=True)\n",
        "data_train, data_valid = torch.utils.data.random_split(data_train, (45000, 5000))\n",
        "data_test = Cifar10(train=False)"
      ],
      "execution_count": null,
      "outputs": []
    },
    {
      "cell_type": "code",
      "metadata": {
        "id": "NAc4uQGcazvv"
      },
      "source": [
        "kwargs = {'batch_size': 100, 'num_workers': 2}\n",
        "loader_train = torch.utils.data.DataLoader(data_train, **kwargs, shuffle=True)\n",
        "loader_valid = torch.utils.data.DataLoader(data_valid, **kwargs)\n",
        "loader_test = torch.utils.data.DataLoader(data_test, **kwargs)"
      ],
      "execution_count": 3,
      "outputs": []
    },
    {
      "cell_type": "markdown",
      "metadata": {
        "id": "iRH-bgxybAMM"
      },
      "source": [
        "## Challenge\n",
        "* Build a Multi Layer Perceptron, MLP, with one ReLU-activated hidden layer.\n",
        "* Use the validation set to inform e.g. number of hidden neurons.\n",
        "* When you're satisfied, then, use the test set to get an  \n",
        "unbiased estimate of your models performance on the real data distribution."
      ]
    },
    {
      "cell_type": "code",
      "metadata": {
        "id": "2RbGkyDRa42r"
      },
      "source": [
        "# Make model function or class. See nn.Module or nn.Sequential\n",
        "# Remember to shape the input to (N, d_data). See nn.Flatten or .view()\n",
        "class MLP(nn.Module):\n",
        "  def __init__(self, n_hidden_units):\n",
        "    super(MLP, self).__init__()\n",
        "    self.model = nn.Sequential(\n",
        "        nn.Flatten(),\n",
        "        nn.Linear(32 * 32 * 3, n_hidden_units),\n",
        "        nn.ReLU(),\n",
        "        nn.Linear(n_hidden_units, 10)\n",
        "    )\n",
        "\n",
        "  def forward(self, x):\n",
        "    result = self.model(x)\n",
        "    return result"
      ],
      "execution_count": 31,
      "outputs": []
    },
    {
      "cell_type": "code",
      "metadata": {
        "id": "bESPwupAbHwm"
      },
      "source": [
        "all_losses, all_accuracies = {}, {}\n",
        "best_accuracy = 0\n",
        "best_model = None"
      ],
      "execution_count": 25,
      "outputs": []
    },
    {
      "cell_type": "code",
      "metadata": {
        "id": "e16OB5PFbKl_",
        "outputId": "1ec0a147-be4a-45fa-85ce-7c7c52333185",
        "colab": {
          "base_uri": "https://localhost:8080/",
          "height": 49,
          "referenced_widgets": [
            "d515fa4f5a8f48fca3ce5596133b5817",
            "1b0e4c71caa94aa695d314e89a3b7bbb",
            "8896a6d346314321b9048edd911c7218",
            "8a0d3b38f6fe4500bd53cfb1478afbf0",
            "a242a229d9be4cdca82d5c6f0effddc2",
            "dacebf749a624a32a00169475f4167d2",
            "0310f872f5574e2991bf86176d3911cd",
            "a8fc0b6774f8487a934e6a7aeeaf7e43",
            "da9d1fb34ddc4877bb2c0602a8c6ede9",
            "5e2af6af28164c77a6850a45bc23c614",
            "a9d5604751b549ba8ab9500b83b05dc3"
          ]
        }
      },
      "source": [
        "device = torch.device('cuda')\n",
        "n_hidden_neurons = 500\n",
        "model = MLP(n_hidden_neurons).to(device)\n",
        "opt = torch.optim.SGD(model.parameters(), lr=5e-2)\n",
        "\n",
        "train_losses, train_accuracies = [], []\n",
        "valid_losses, valid_accuracies = [], []\n",
        "\n",
        "for epoch in tqdm(range(50)):\n",
        "  # Train\n",
        "  epoch_losses = []\n",
        "  correct, total = 0, 0\n",
        "  for x, y in loader_train:\n",
        "    x, y = x.to(device), y.to(device)\n",
        "    logits = model(x)  # logits: common name for the output before softmax activation\n",
        "    log_probs = F.log_softmax(logits, dim=1)  # numerically stable version of log(softmax(logits))\n",
        "    loss = F.nll_loss(log_probs, y)  # negative log likelihood loss\n",
        "    # or just: loss = F.cross_entropy(logits, y)\n",
        "\n",
        "    opt.zero_grad()\n",
        "    loss.backward()\n",
        "    opt.step()\n",
        "\n",
        "    epoch_losses.append(loss.item())\n",
        "    total += len(x)\n",
        "    correct += (torch.argmax(logits, dim=1) == y).sum().item()\n",
        "  train_loss = np.mean(epoch_losses)\n",
        "  train_accuracy = correct / total\n",
        "\n",
        "  # Valid\n",
        "  for x, y in loader_valid:\n",
        "    x, y = x.to(device), y.to(device)\n",
        "    logits = model(x)\n",
        "    log_probs = F.log_softmax(logits, dim=1)\n",
        "    loss = F.nll_loss(log_probs, y)\n",
        "\n",
        "    opt.zero_grad()\n",
        "    loss.backward()\n",
        "    opt.step()\n",
        "\n",
        "    epoch_losses.append(loss.item())\n",
        "    total += len(x)\n",
        "    correct += (torch.argmax(logits, dim=1) == y).sum().item()\n",
        "  valid_loss = np.mean(epoch_losses)\n",
        "  valid_accuracy = correct / total\n",
        "\n",
        "  if valid_accuracy > best_accuracy:\n",
        "    best_accuracy = valid_accuracy\n",
        "    best_model = copy.deepcopy(model), n_hidden_neurons, epoch\n",
        "\n",
        "  train_losses.append(train_loss)\n",
        "  valid_losses.append(valid_loss)\n",
        "  train_accuracies.append(train_accuracy)\n",
        "  valid_accuracies.append(valid_accuracy)\n",
        "\n",
        "all_losses[n_hidden_neurons] = train_losses, valid_losses\n",
        "all_accuracies[n_hidden_neurons] = train_accuracies, valid_accuracies"
      ],
      "execution_count": 41,
      "outputs": [
        {
          "output_type": "display_data",
          "data": {
            "text/plain": [
              "  0%|          | 0/50 [00:00<?, ?it/s]"
            ],
            "application/vnd.jupyter.widget-view+json": {
              "version_major": 2,
              "version_minor": 0,
              "model_id": "d515fa4f5a8f48fca3ce5596133b5817"
            }
          },
          "metadata": {}
        }
      ]
    },
    {
      "cell_type": "code",
      "metadata": {
        "id": "7zxi7BqgbNbe",
        "outputId": "6151f7a2-7746-4e7a-d370-5120f00de402",
        "colab": {
          "base_uri": "https://localhost:8080/",
          "height": 407
        }
      },
      "source": [
        "plt.figure(figsize=(10, 4))\n",
        "\n",
        "plt.subplot(1, 2, 1)\n",
        "plt.xlabel('epoch')\n",
        "plt.ylabel('loss')\n",
        "for n, (train_losses, valid_losses) in all_losses.items():\n",
        "  p = plt.plot(train_losses, label=f'{n}:train')\n",
        "  plt.plot(valid_losses, label=f'{n}:valid', ls='--', c=p[0].get_color())\n",
        "plt.legend()\n",
        "plt.grid()\n",
        "\n",
        "plt.subplot(1, 2, 2)\n",
        "plt.xlabel('epoch')\n",
        "plt.ylabel('accuracy')\n",
        "plt.ylim(0, 1)\n",
        "for n, (train_accuracies, valid_accuracies) in all_accuracies.items():\n",
        "  p = plt.plot(train_accuracies, label=f'{n}:train')\n",
        "  plt.plot(valid_accuracies, label=f'{n}:valid', ls='--', c=p[0].get_color())\n",
        "plt.legend()\n",
        "plt.grid()\n",
        "\n",
        "plt.tight_layout()\n",
        "plt.show()"
      ],
      "execution_count": 42,
      "outputs": [
        {
          "output_type": "display_data",
          "data": {
            "text/plain": [
              "<Figure size 1000x400 with 2 Axes>"
            ],
            "image/png": "[encoded data removed]"
          },
          "metadata": {}
        }
      ]
    },
    {
      "cell_type": "code",
      "metadata": {
        "id": "HziDCC59bdIj",
        "outputId": "237e6580-bc90-4ad6-ec67-51fcbf81c312",
        "colab": {
          "base_uri": "https://localhost:8080/"
        }
      },
      "source": [
        "model, n_hidden_neurons, epoch = best_model\n",
        "print(f'best val accuracy: {best_accuracy:.2f} with {n_hidden_neurons} hidden neurons after {epoch} epoch')\n",
        "\n",
        "model.eval()\n",
        "with torch.no_grad():\n",
        "  correct = 0\n",
        "  total = 0\n",
        "  for x, y in loader_test:\n",
        "    x, y = x.to(device), y.to(device)\n",
        "    x_pred = model(x)\n",
        "    _, y_pred = torch.max(x_pred.data, 1)\n",
        "    total += y.size(0)\n",
        "    correct += (y_pred == y).sum().item()\n",
        "\n",
        "print(f'Test accuracy: {correct / total}')"
      ],
      "execution_count": 43,
      "outputs": [
        {
          "output_type": "stream",
          "name": "stdout",
          "text": [
            "best val accuracy: 0.89 with 500 hidden neurons after 49 epoch\n",
            "Test accuracy: 0.5451\n"
          ]
        }
      ]
    }
  ]
}