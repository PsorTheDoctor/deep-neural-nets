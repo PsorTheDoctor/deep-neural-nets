{
  "cells": [
    {
      "cell_type": "markdown",
      "metadata": {
        "id": "view-in-github",
        "colab_type": "text"
      },
      "source": [
        "<a href=\"https://colab.research.google.com/github/PsorTheDoctor/deep-neural-nets/blob/main/clip_zero_shot_detection.ipynb\" target=\"_parent\"><img src=\"https://colab.research.google.com/assets/colab-badge.svg\" alt=\"Open In Colab\"/></a>"
      ]
    },
    {
      "cell_type": "markdown",
      "source": [
        "#Fine-tuning CLIP for zero-shot object detection"
      ],
      "metadata": {
        "id": "ZyfE3Wihlu21"
      }
    },
    {
      "cell_type": "code",
      "execution_count": 28,
      "metadata": {
        "id": "QK8vrvHKH1ru",
        "colab": {
          "base_uri": "https://localhost:8080/"
        },
        "outputId": "590f69ce-54a4-472a-eadb-198335d339b9"
      },
      "outputs": [
        {
          "output_type": "stream",
          "name": "stdout",
          "text": [
            "  Preparing metadata (setup.py) ... \u001b[?25l\u001b[?25hdone\n"
          ]
        }
      ],
      "source": [
        "!pip install -q transformers einops ftfy captum\n",
        "!pip install -q git+https://github.com/openai/CLIP.git\n",
        "\n",
        "import numpy as np\n",
        "import json\n",
        "from PIL import Image\n",
        "from tqdm import tqdm\n",
        "from pathlib import Path\n",
        "import glob\n",
        "\n",
        "import torch\n",
        "import torch.nn as nn\n",
        "from torch.utils.data import Dataset\n",
        "from torch.utils.data import DataLoader\n",
        "from torchvision import transforms\n",
        "\n",
        "import clip\n",
        "from transformers import CLIPProcessor, CLIPModel"
      ]
    },
    {
      "cell_type": "code",
      "source": [
        "from google.colab import drive\n",
        "drive.mount('/content/drive')"
      ],
      "metadata": {
        "id": "-QGcfJ2GrZqv",
        "colab": {
          "base_uri": "https://localhost:8080/"
        },
        "outputId": "a95e6292-3ccd-4b27-a3eb-056e5738ba44"
      },
      "execution_count": 3,
      "outputs": [
        {
          "output_type": "stream",
          "name": "stdout",
          "text": [
            "Mounted at /content/drive\n"
          ]
        }
      ]
    },
    {
      "cell_type": "code",
      "execution_count": 32,
      "metadata": {
        "id": "BIB42lDAHkVZ"
      },
      "outputs": [],
      "source": [
        "device = 'cuda:0' if torch.cuda.is_available() else 'cpu'\n",
        "\n",
        "model, preprocess = clip.load(\"ViT-B/32\", device=device, jit=False)"
      ]
    },
    {
      "cell_type": "code",
      "execution_count": 5,
      "metadata": {
        "id": "5f76lz4KH4X_"
      },
      "outputs": [],
      "source": [
        "class CeresDataset(Dataset):\n",
        "  def __init__(self, img_folder):\n",
        "    self.img_folder = Path(img_folder)\n",
        "    self.img_paths = list(self.img_folder.glob('*.jpg'))\n",
        "    self.label = clip.tokenize(['ceres'])[0]\n",
        "\n",
        "  def __len__(self):\n",
        "    return len(self.img_paths)\n",
        "\n",
        "  def __getitem__(self, idx):\n",
        "    img = preprocess(Image.open(self.img_paths[idx]))\n",
        "    return img, self.label"
      ]
    },
    {
      "cell_type": "code",
      "execution_count": 6,
      "metadata": {
        "id": "Z_7D2zw4Jti9"
      },
      "outputs": [],
      "source": [
        "dataset = CeresDataset('/content/drive/MyDrive/ceres-logo-images/')\n",
        "# batch size must be larger than 1\n",
        "train_dataloader = DataLoader(dataset, batch_size=16, shuffle=True)"
      ]
    },
    {
      "cell_type": "code",
      "execution_count": 7,
      "metadata": {
        "id": "5oDU3vALIjpv",
        "colab": {
          "base_uri": "https://localhost:8080/"
        },
        "outputId": "2ff9b581-20ad-4616-aa3a-15e4c90c10b4"
      },
      "outputs": [
        {
          "output_type": "stream",
          "name": "stderr",
          "text": [
            "Epoch 0/5, Loss: 0.6978: 100%|██████████| 7/7 [01:29<00:00, 12.76s/it]\n",
            "Epoch 1/5, Loss: 0.6943: 100%|██████████| 7/7 [00:01<00:00,  4.80it/s]\n",
            "Epoch 2/5, Loss: 0.6968: 100%|██████████| 7/7 [00:01<00:00,  4.78it/s]\n",
            "Epoch 3/5, Loss: 0.6934: 100%|██████████| 7/7 [00:01<00:00,  4.84it/s]\n",
            "Epoch 4/5, Loss: 0.6934: 100%|██████████| 7/7 [00:01<00:00,  4.83it/s]\n"
          ]
        }
      ],
      "source": [
        "def convert_model_to_fp32(model):\n",
        "  for p in model.parameters():\n",
        "    p.data = p.data.float()\n",
        "    p.grad.data = p.grad.data.float()\n",
        "\n",
        "opt = torch.optim.Adam(model.parameters(), lr=0.0001, weight_decay=0.2)\n",
        "loss_img = nn.CrossEntropyLoss()\n",
        "loss_txt = nn.CrossEntropyLoss()\n",
        "\n",
        "n_epochs = 5\n",
        "losses = []\n",
        "for epoch in range(n_epochs):\n",
        "  pbar = tqdm(train_dataloader, total=len(train_dataloader))\n",
        "  for batch in pbar:\n",
        "    opt.zero_grad()\n",
        "\n",
        "    images, texts = batch\n",
        "    images = images.to(device)\n",
        "    texts = texts.to(device)\n",
        "\n",
        "    logits_per_img, logits_per_txt = model(images, texts)\n",
        "    ground_truth = torch.arange(len(images), dtype=torch.long, device=device)\n",
        "    total_loss = (loss_img(logits_per_img, ground_truth) + loss_txt(logits_per_txt, ground_truth)) / 2\n",
        "    losses.append(float(total_loss))\n",
        "\n",
        "    total_loss.backward()\n",
        "    if device == 'cpu':\n",
        "      opt.step()\n",
        "    else:\n",
        "      convert_model_to_fp32(model)\n",
        "      opt.step()\n",
        "      clip.model.convert_weights(model)\n",
        "\n",
        "    pbar.set_description(f'Epoch {epoch}/{n_epochs}, Loss: {total_loss.item():.4f}')"
      ]
    }
  ],
  "metadata": {
    "colab": {
      "provenance": [],
      "gpuType": "T4",
      "authorship_tag": "ABX9TyMXvZirEkYCItleGo8hVqBW",
      "include_colab_link": true
    },
    "kernelspec": {
      "display_name": "Python 3",
      "name": "python3"
    },
    "language_info": {
      "name": "python"
    },
    "accelerator": "GPU"
  },
  "nbformat": 4,
  "nbformat_minor": 0
}